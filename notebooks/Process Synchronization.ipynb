{
 "cells": [
  {
   "cell_type": "markdown",
   "metadata": {},
   "source": [
    "# Process Synchronization"
   ]
  },
  {
   "cell_type": "markdown",
   "metadata": {},
   "source": [
    "## Lock variable\n",
    "\n",
    "A variable can take value 0 or 1. 0 means available , 1 means occupied. A busy waiting solution.\n",
    "\n",
    "- Mutual exlusion - not gauranteed\n",
    "- progress - gauranteed\n",
    "- Bounded waiting - gauranteed\n",
    "- Architecture neutral- yes"
   ]
  },
  {
   "cell_type": "markdown",
   "metadata": {},
   "source": [
    "## TSL\n",
    "\n",
    "- Mutual exlusion - gauranteed\n",
    "- progress - gauranteed\n",
    "- Bounded waiting - gauranteed\n",
    "- Architecture neutral- no"
   ]
  },
  {
   "cell_type": "markdown",
   "metadata": {},
   "source": [
    "## Disable interrupt"
   ]
  },
  {
   "cell_type": "markdown",
   "metadata": {},
   "source": [
    "## Turn variable\n",
    "\n",
    "- Mutual exlusion - gauranteed\n",
    "- progress - not gauranteed\n",
    "- Bounded waiting - gauranteed\n",
    "- Architecture neutral- yes"
   ]
  },
  {
   "cell_type": "markdown",
   "metadata": {},
   "source": [
    "## Interested variable\n",
    "\n",
    "- Mutual exlusion - not gauranteed\n",
    "- progress - gauranteed\n",
    "- Bounded waiting - not gauranteed\n",
    "- Architecture neutral- yes"
   ]
  },
  {
   "cell_type": "markdown",
   "metadata": {},
   "source": [
    "## Peterson solution\n",
    "\n",
    "- Mutual exlusion - gauranteed\n",
    "- progress - gauranteed\n",
    "- Bounded waiting - gauranteed\n",
    "- Architecture neutral- yes"
   ]
  },
  {
   "cell_type": "markdown",
   "metadata": {},
   "source": [
    "## Semaphore\n",
    "\n",
    "- Mutual exlusion - gauranteed\n",
    "- progress - gauranteed\n",
    "- Bounded waiting - gauranteed\n",
    "- Architecture neutral- no"
   ]
  },
  {
   "cell_type": "markdown",
   "metadata": {},
   "source": [
    "### Counting Semaphore"
   ]
  },
  {
   "cell_type": "markdown",
   "metadata": {},
   "source": [
    "### Binary semaphore (Mutex)"
   ]
  },
  {
   "cell_type": "markdown",
   "metadata": {},
   "source": [
    "### Summary\n",
    "\n",
    "Synchronization\n",
    "*************************************\n",
    "Synchronization is needed to avoid race condition. Race condition occurs in multiprocessing environment where multiple\n",
    "processes compete for CPU and any other resources i.e. file, code section. \n",
    "Code area that contains instructions causes race condition is called critical section.\n",
    "If critical section is made atomic, there is no need for synchronization technique. Any synchronization technique provided \n",
    "by Opearting System needs atomicity atlast. You can not imagine any snchronization technique without atomicity.\n",
    "\n",
    "Types of snchronization\n",
    "*****************************************************\n",
    "\n",
    "1. Busy waiting - Lock, TSL, Turn variable, interseted variable, Peterson solution\n",
    "2. Sleep and wakeup - Semaphore, counting semaphore, binary semaphore\n",
    "\n",
    "Other possible categorisation\n",
    "1. Software solution - Lock, Turn variable, interested variable, Peterson solution\n",
    "2. Hardware solution (OS) - TSL, Semaphore\n",
    "\n",
    "Synchronization technique provided by OS\n",
    "1. spin lock\n",
    "2. mutex\n",
    "3. condition variable\n",
    "4. semaphore\n",
    "\n",
    "\n",
    "All the busy waiting solution suffers from priority of inversion problem.\n",
    "Some popular synchronization problems are -----\n",
    "1. Producer consumer\n",
    "2. Reader writer\n",
    "3. Record locking\n",
    "4. Barrier \n",
    "\n",
    "In synchronization processes are involved to compete for resources. A process has to wait for a resource if other any\n",
    "process have occupied the resource. There may be any number of processes , any number of resources involved. Can \n",
    "we make a mathematical model of this problem? Can State transition diagram (Automata) be helpful in this?\n",
    "\n",
    "Interprocess communication\n",
    "******************************************************\n",
    "Processes have relations like parent child called related processes otherwise they are unrelated.\n",
    "If processes are co operating among them either by means of synchronization or IPC are called co operating processes.\n",
    "\n",
    "Popular IPC mechanism are ------------\n",
    "1. Pipe - It is anonymous(without name). Thats why it is used among related processes only. It is half duplex.\n",
    "2. FIFO - It has a name. Can be used among unrelated processes also. It is also half duplex.\n",
    "3. Message queue - It can be think as linked list of message. A process can read or write message to queue. A reader\n",
    "   process need not to wait for a writer process to be arrive at the queue, and vice versa as in the case of Pipe and FIFO. \n",
    "4. Shared memory - A memory region is made common for adress spaces of process. This common memory region is\n",
    "   shared among process to exchange information.\n",
    "\n",
    "Pipe and FIFO uses stream IO to create IPC channel. A stream can be think as continous supply of bytes. \n",
    "Sometimes an application wants to impose some structure on the data being transferred. This can happen when the data\n",
    "consists of variable-length messages and the reader must know where the message boundaries are so that \n",
    "it knows when a single message has been read.\n",
    "\n",
    "Pipe, FIFO and files are synchronized by kernel in uinx.\n",
    "Message queue can be also synchronized by kernel, provides some methods to be used by user to synchronize.\n",
    "There is need for explicit synchronization in shared memory.\n",
    "\n",
    "Lets think of multiprocessing and multithreading\n",
    "******************************************************************************************\n",
    "A process is a program brought in memory to run. A set memory address is assigned to a process called address space.\n",
    "A process control block contains metadata about a process. A process has its own address space, file descriptor table, \n",
    "program counter. An existing process can create new processes. A newly created process can execute a program.\n",
    "Process control primitives in unix are--\n",
    "\n",
    "1. fork\n",
    "2. exec\n",
    "3. wait, waitid, sleep, signal\n",
    "4. Exit, exit \n",
    "\n",
    "\n",
    "A thread is a child process that always runs in its immediate parents address space.  A process can create multiple\n",
    "threads and each thread execute a diffrerent program in the same address space. When a process terminates its all\n",
    "threads all terminated. If a thread of a process calls exit the entire process will exit. All threads run in one address\n",
    "space , if they are sharing a global variable then there is need for explicit synchronization among them.  A thread\n",
    "has its own program counter, stack.\n",
    "\n",
    "Now we can think about multiprocessing--\n",
    "Multiprocessing is about lets multiple processes run concurrently by competing for CPU. A CPU scheduler is responsible\n",
    "for assigning and taking CPU to and from a process. If all the processes are unrelated and non coordinating then\n",
    "there is no need for IPC and synchronization. If processes are communicating then there is a need for IPC.\n",
    "It depends on the nature of interaction of processes, whether synchronization is needed or not. A simple form of \n",
    "multiprocessing is running multiple copy of a program in one CPU.\n",
    "\n",
    "Caution: Concureent, simultanous, parallel, distributed are loosly used in the most text, make a clear diffrence.\n",
    "\n",
    "Lets think about synchronous model and asynchronous model of programming---\n",
    "In synchronous model of programming each intructuon runs after completion of its previous intruction.\n",
    "In asynchronous model there is no gaurantee of completyion of previous instruction. Signal can be used in this\n",
    "model to tell about completion.\n",
    "\n",
    "Lets think about multithreading--\n",
    "Multithreading can be think as separating synchronous, asynchronous and independant task of the pragram. \n",
    "Let assign each asynchronous part a new thread, each independant task a new thread. \n",
    "\n",
    "A typical UNIX process can be thought of as having a single thread of control: each process is doing \n",
    "only one thing at a time. With multiple threads of control, we can design our programs to do more than \n",
    "one thing at a time within a single process, with each thread handling a separate task.\n",
    "\n",
    "A thread runs a different part of program assigned to it.\n",
    "Two tasks can be interleaved only if they don’t depend on the processing performed by each other. \n",
    "\n",
    "Similarly, interactive programs can realize improved response time by using multiple threads to separate \n",
    "the portions of the program that deal with user input and output from the other parts of the program.\n",
    "\n",
    "Intercommunication among threads are easy beacuse they are in the same address space.\n",
    "\n",
    "How to design our program multithreaded?\n"
   ]
  },
  {
   "cell_type": "code",
   "execution_count": null,
   "metadata": {},
   "outputs": [],
   "source": []
  }
 ],
 "metadata": {
  "kernelspec": {
   "display_name": "Python 3 (ipykernel)",
   "language": "python",
   "name": "python3"
  },
  "language_info": {
   "codemirror_mode": {
    "name": "ipython",
    "version": 3
   },
   "file_extension": ".py",
   "mimetype": "text/x-python",
   "name": "python",
   "nbconvert_exporter": "python",
   "pygments_lexer": "ipython3",
   "version": "3.10.1"
  }
 },
 "nbformat": 4,
 "nbformat_minor": 4
}
