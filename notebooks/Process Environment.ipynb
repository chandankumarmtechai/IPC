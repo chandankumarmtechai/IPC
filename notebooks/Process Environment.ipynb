{
 "cells": [
  {
   "cell_type": "markdown",
   "metadata": {},
   "source": [
    "# Process Environment"
   ]
  },
  {
   "cell_type": "markdown",
   "metadata": {},
   "source": [
    "## How the main function is called when a program is executed?"
   ]
  },
  {
   "cell_type": "markdown",
   "metadata": {},
   "source": [
    "When a C program is executed by the kernel, —a special start-up routine is called before the main function is called. \n",
    "The executable program file specifies this routine as the starting address for the program; this is set up by the link editor when it is invoked by the C compiler. This start-up routine takes values from the kernel—the command-line arguments and the environment"
   ]
  },
  {
   "cell_type": "markdown",
   "metadata": {},
   "source": [
    "## Process Termination"
   ]
  },
  {
   "cell_type": "markdown",
   "metadata": {},
   "source": [
    "Normal Termination\n",
    "1. Return from main\n",
    "2. Calling exit\n",
    "3. Calling _exit or _Exit\n",
    "4. Return of the last thread from its start routine (Section 11.5)\n",
    "5. Calling pthread_exit (Section 11.5) from the last thread\n",
    "\n",
    "Abnormal Termination\n",
    "1. Calling abort (Section 10.17)\n",
    "2. Receipt of a signal (Section 10.2)\n",
    "3. Response of the last thread to a cancellation request\n"
   ]
  },
  {
   "cell_type": "markdown",
   "metadata": {},
   "source": [
    "### Exit functions\n",
    "``` c\n",
    "\n",
    "#include <stdlib.h>\n",
    "void exit(int status);\n",
    "void _Exit(int status);\n",
    "#include <unistd.h>\n",
    "void _exit(int status);\n",
    "\n",
    "```"
   ]
  },
  {
   "cell_type": "code",
   "execution_count": 3,
   "metadata": {},
   "outputs": [
    {
     "name": "stdout",
     "output_type": "stream",
     "text": [
      "0\r\n"
     ]
    }
   ],
   "source": [
    "! echo $? # print exit status of last executed program"
   ]
  },
  {
   "cell_type": "markdown",
   "metadata": {},
   "source": [
    "### atexit Function\n",
    "\n",
    "With ISO C, a process can register at least 32 functions that are automatically called by\n",
    "exit. These are called exit handlers and are registered by calling the atexit function.\n",
    "\n",
    "```c\n",
    "#include <stdlib.h>\n",
    "int atexit(void (*func)(void));\n",
    "```\n",
    "\n",
    "This declaration says that we pass the address of a function as the argument to atexit.\n",
    "When this function is called, it is not passed any arguments and is not expected to\n",
    "return a value. The exit function calls these functions in reverse order of their\n",
    "registration. Each function is called as many times as it was registered."
   ]
  },
  {
   "cell_type": "markdown",
   "metadata": {},
   "source": [
    "<img src=\"images/exit.png\"  width=\"900\" height=\"400\">"
   ]
  },
  {
   "cell_type": "markdown",
   "metadata": {},
   "source": [
    "## Command line arguments"
   ]
  },
  {
   "cell_type": "markdown",
   "metadata": {},
   "source": [
    "## Environment list\n",
    "\n",
    "Each program is also passed an environment list. Like the argument list, the\n",
    "environment list is an array of character pointers, with each pointer containing the\n",
    "address of a null-terminated C string. The address of the array of pointers is contained\n",
    "in the global variable environ:\n",
    "\n",
    "```c\n",
    "extern char **environ;\n",
    "```\n",
    "\n",
    "Access to specific environment variables is normally through the getenv\n",
    "and putenv functions,instead of through the environ\n",
    "variable. But to go through the entire environment, the environ pointer must be used."
   ]
  },
  {
   "cell_type": "markdown",
   "metadata": {},
   "source": [
    "## Memory Layout of a C Program\n",
    "\n",
    "<img src=\"images/mm.png\"  width=\"600\" height=\"400\">\n",
    "\n",
    "- **Text segment**, consisting of the machine instructions that the CPU executes.\n",
    "  Usually, the text segment is sharable so that only a single copy needs to be in\n",
    "  memory for frequently executed programs, such as text editors, the C compiler, \n",
    "  the shells, and so on. Also, the text segment is often read-only, to prevent a\n",
    "  program from accidentally modifying its instructions.\n",
    "  \n",
    "- **Initialized data segment**, usually called simply the data segment, containing\n",
    "  variables that are specifically initialized in the program.\n",
    "  \n",
    "- **Uninitialized data segment**, often called the ‘‘bss’’ segment, named after an\n",
    "  ancient assembler operator that stood for ‘‘block started by symbol.’’ Data in\n",
    "  this segment is initialized by the kernel to arithmetic 0 or null pointers before the\n",
    "  program starts executing.\n",
    "  \n",
    "- **Stack**, where automatic variables are stored, along with information that is saved\n",
    "  each time a function is called. Each time a function is called, the address of\n",
    "  where to return to and certain information about the caller’s environment, such\n",
    "  as some of the machine registers, are saved on the stack. The newly called\n",
    "  function then allocates room on the stack for its automatic and temporary\n",
    "  variables. This is how recursive functions in C can work. Each time a recursive\n",
    "  function calls itself, a new stack frame is used, so one set of variables doesn’t\n",
    "  interfere with the variables from another instance of the function.\n",
    "  \n",
    "- **Heap**, where dynamic memory allocation usually takes place. Historically, the\n",
    "  heap has been located between the uninitialized data and the stack."
   ]
  },
  {
   "cell_type": "markdown",
   "metadata": {},
   "source": [
    "### The size(1) command reports the sizes (in bytes) of the text, data, and bss segments."
   ]
  },
  {
   "cell_type": "code",
   "execution_count": 6,
   "metadata": {},
   "outputs": [
    {
     "name": "stdout",
     "output_type": "stream",
     "text": [
      "   text\t   data\t    bss\t    dec\t    hex\tfilename\r\n",
      "   1341\t    548\t      4\t   1893\t    765\t/home/chandan/CHANDAN/Unix/apue.3e-master/intro/hello\r\n"
     ]
    }
   ],
   "source": [
    "! size /home/chandan/CHANDAN/Unix/apue.3e-master/intro/hello"
   ]
  },
  {
   "cell_type": "markdown",
   "metadata": {},
   "source": [
    "## Shared Libraries\n",
    "\n",
    "Shared libraries remove the common library routines\n",
    "from the executable file, instead maintaining a single copy of the library routine\n",
    "somewhere in memory that all processes reference. This reduces the size of each\n",
    "executable file but may add some runtime overhead, either when the program is first\n",
    "executed or the first time each shared library function is called. Another advantage of\n",
    "shared libraries is that library functions can be replaced with new versions without\n",
    "having to relink edit every program that uses the library (assuming that the number and\n",
    "type of arguments haven’t changed)."
   ]
  },
  {
   "cell_type": "markdown",
   "metadata": {},
   "source": [
    "gcc -static hello1.c #prevent gcc from using shared libraries\n",
    "\n",
    "gcc hello1.c        #gcc defaults to use shared libraries"
   ]
  },
  {
   "cell_type": "markdown",
   "metadata": {},
   "source": [
    "## Memory Allocation\n",
    "\n",
    "ISO C specifies three functions for memory allocation:\n",
    "1. malloc, which allocates a specified number of bytes of memory. The initial\n",
    "   value of the memory is indeterminate.\n",
    "2. calloc, which allocates space for a specified number of objects of a specified\n",
    "   size. The space is initialized to all 0 bits.\n",
    "3. realloc, which increases or decreases the size of a previously allocated area.\n",
    "   When the size increases, it may involve moving the previously allocated area\n",
    "   somewhere else, to provide the additional room at the end. Also, when the size\n",
    "   increases, the initial value of the space between the old contents and the end of\n",
    "   the new area is indeterminate.\n",
    "   \n",
    "```c\n",
    "#include <stdlib.h>\n",
    "void *malloc(size_t size);\n",
    "void *calloc(size_t nobj, size_t size);\n",
    "void *realloc(void *ptr, size_t newsize);\n",
    "//All three return: non-null pointer if OK, NULL on error\n",
    "void free(void *ptr);\n",
    "```"
   ]
  },
  {
   "cell_type": "markdown",
   "metadata": {},
   "source": [
    ">The allocation routines are usually implemented with the sbrk(2) system call. This\n",
    "system call expands (or contracts) the heap of the process. (Refer to Figure 7.6.) A\n",
    "sample implementation of malloc and free is given in Section 8.7 of Kernighan and\n",
    "Ritchie [1988]."
   ]
  },
  {
   "cell_type": "markdown",
   "metadata": {},
   "source": [
    "### Memory leak\n",
    "Other possible errors that can be fatal are freeing a block that was already freed and\n",
    "calling free with a pointer that was not obtained from one of the three alloc\n",
    "functions. If a process calls malloc but forgets to call free, its memory usage will\n",
    "continually increase; this is called leakage. If we do not call free to return unused\n",
    "space, the size of a process’s address space will slowly increase until no free space is left.\n",
    "During this time, performance can degrade from excess paging overhead."
   ]
  },
  {
   "cell_type": "markdown",
   "metadata": {},
   "source": [
    "## Environment variables\n",
    "\n",
    "```c\n",
    "#include <stdlib.h>\n",
    "int putenv(char *str);\n",
    "//Returns: 0 if OK, nonzero on error\n",
    "int setenv(const char *name, const char *value, int rewrite);\n",
    "int unsetenv(const char *name);\n",
    "//Both return: 0 if OK, −1 on error\n",
    "```"
   ]
  },
  {
   "cell_type": "markdown",
   "metadata": {},
   "source": [
    "## setjmp and longjmp functions\n",
    "\n",
    "In C, we can’t goto a label that’s in another function. Instead, we must use the setjmp\n",
    "and longjmp functions to perform this type of branching."
   ]
  },
  {
   "cell_type": "markdown",
   "metadata": {},
   "source": [
    "## Limitation of resource\n",
    "\n",
    "Every process has a set of resource limits, some of which can be queried and changed by\n",
    "the getrlimit and setrlimit functions.\n",
    "\n",
    "```c\n",
    "#include <sys/resource.h>\n",
    "int getrlimit(int resource, struct rlimit *rlptr);\n",
    "int setrlimit(int resource, const struct rlimit *rlptr);\n",
    "//Both return: 0 if OK, −1 on error\n",
    "```\n",
    "Each call to these two functions specifies a single resource and a pointer to the\n",
    "following structure:\n",
    "```c\n",
    "struct rlimit {\n",
    "rlim_t rlim_cur;\n",
    "rlim_t rlim_max;\n",
    "};\n",
    "```\n",
    "\n",
    "Three rules govern the changing of the resource limits.\n",
    "1. A process can change its soft limit to a value less than or equal to its hard limit.\n",
    "2. A process can lower its hard limit to a value greater than or equal to its soft\n",
    "   limit. This lowering of the hard limit is irreversible for normal users.\n",
    "3. Only a superuser process can raise a hard limit.\n",
    "\n",
    ">The resource limits affect the calling process and are inherited by any of its children.\n",
    "This means that the setting of resource limits needs to be built into the shells to affect all\n",
    "our future processes. Indeed, the Bourne shell, the GNU Bourne-again shell, and the\n",
    "Korn shell have the built-in ulimit command, and the C shell has the built-in limit\n",
    "command. (The umask and chdir functions also have to be handled as shell built-ins.)\n"
   ]
  },
  {
   "cell_type": "code",
   "execution_count": null,
   "metadata": {},
   "outputs": [],
   "source": []
  }
 ],
 "metadata": {
  "kernelspec": {
   "display_name": "Python 3",
   "language": "python",
   "name": "python3"
  },
  "language_info": {
   "codemirror_mode": {
    "name": "ipython",
    "version": 3
   },
   "file_extension": ".py",
   "mimetype": "text/x-python",
   "name": "python",
   "nbconvert_exporter": "python",
   "pygments_lexer": "ipython3",
   "version": "3.7.7"
  }
 },
 "nbformat": 4,
 "nbformat_minor": 4
}
