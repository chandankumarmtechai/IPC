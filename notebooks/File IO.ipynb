{
 "cells": [
  {
   "cell_type": "markdown",
   "metadata": {},
   "source": [
    "# File I/O"
   ]
  },
  {
   "cell_type": "markdown",
   "metadata": {},
   "source": [
    "## File descriptor"
   ]
  },
  {
   "cell_type": "markdown",
   "metadata": {},
   "source": [
    "## open and openat Functions\n",
    "\n",
    "```c\n",
    "#include <fcntl.h>\n",
    "int open(const char *path, int oflag, ... /* mode_t mode */ );\n",
    "int openat(int fd, const char *path, int oflag, ... /* mode_t mode */ );\n",
    "```"
   ]
  },
  {
   "cell_type": "markdown",
   "metadata": {},
   "source": [
    "## create function\n",
    "\n",
    "```c\n",
    "#include <fcntl.h>\n",
    "int creat(const char *path, mode_t mode);\n",
    "```"
   ]
  },
  {
   "cell_type": "markdown",
   "metadata": {},
   "source": [
    "## close function\n",
    "\n",
    "```c\n",
    "#include <unistd.h>\n",
    "int close(int fd);\n",
    "```"
   ]
  },
  {
   "cell_type": "markdown",
   "metadata": {},
   "source": [
    "## lseek Function\n",
    "\n",
    "```c\n",
    "#include <unistd.h>\n",
    "off_t lseek(int fd, off_t offset, int whence);\n",
    "```"
   ]
  },
  {
   "cell_type": "markdown",
   "metadata": {},
   "source": [
    "## read function\n",
    "\n",
    "```c\n",
    "#include <unistd.h>\n",
    "ssize_t read(int fd, void *buf, size_t nbytes);\n",
    "```"
   ]
  },
  {
   "cell_type": "markdown",
   "metadata": {},
   "source": [
    "## write function\n",
    "\n",
    "```c\n",
    "#include <unistd.h>\n",
    "ssize_t write(int fd, const void *buf, size_t nbytes);\n",
    "\n",
    "```"
   ]
  },
  {
   "cell_type": "markdown",
   "metadata": {},
   "source": [
    "## File sharing"
   ]
  },
  {
   "cell_type": "markdown",
   "metadata": {},
   "source": [
    "## Atomic operation"
   ]
  },
  {
   "cell_type": "markdown",
   "metadata": {},
   "source": [
    "## pread and pwrite functoion\n",
    "\n",
    "```c\n",
    "#include <unistd.h>\n",
    "ssize_t pread(int fd, void *buf, size_t nbytes, off_t offset);\n",
    "Returns: number of bytes read, 0 if end of file, −1 on error\n",
    "ssize_t pwrite(int fd, const void *buf, size_t nbytes, off_t offset);\n",
    "```"
   ]
  },
  {
   "cell_type": "markdown",
   "metadata": {},
   "source": [
    "## dup functions\n",
    "\n",
    "```c\n",
    "#include <unistd.h>\n",
    "int dup(int fd);\n",
    "int dup2(int fd, int fd2);\n",
    "```"
   ]
  },
  {
   "cell_type": "markdown",
   "metadata": {},
   "source": [
    "## sync functions\n",
    "\n",
    "```c\n",
    "#include <unistd.h>\n",
    "int fsync(int fd);\n",
    "int fdatasync(int fd);\n",
    "//Returns: 0 if OK, −1 on error\n",
    "void sync(void);\n",
    "```"
   ]
  },
  {
   "cell_type": "markdown",
   "metadata": {},
   "source": [
    "## fcntl function\n",
    "\n",
    "```c\n",
    "#include <fcntl.h>\n",
    "int fcntl(int fd, int cmd, ... /* int arg */ );\n",
    "//Returns: depends on cmd if OK \n",
    "```"
   ]
  },
  {
   "cell_type": "markdown",
   "metadata": {},
   "source": [
    "## ioctl function\n",
    "\n",
    "```c\n",
    "#include <unistd.h>\n",
    "#include <sys/ioctl.h>\n",
    "/* System V */\n",
    "/* BSD and Linux */\n",
    "int ioctl(int fd, int request, ...);\n",
    "```"
   ]
  },
  {
   "cell_type": "code",
   "execution_count": null,
   "metadata": {},
   "outputs": [],
   "source": []
  }
 ],
 "metadata": {
  "kernelspec": {
   "display_name": "Python 3",
   "language": "python",
   "name": "python3"
  },
  "language_info": {
   "codemirror_mode": {
    "name": "ipython",
    "version": 3
   },
   "file_extension": ".py",
   "mimetype": "text/x-python",
   "name": "python",
   "nbconvert_exporter": "python",
   "pygments_lexer": "ipython3",
   "version": "3.7.7"
  }
 },
 "nbformat": 4,
 "nbformat_minor": 4
}
